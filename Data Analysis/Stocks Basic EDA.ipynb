{
 "cells": [
  {
   "cell_type": "markdown",
   "metadata": {},
   "source": [
    "<center>\n",
    "    <img src=\"https://s3-api.us-geo.objectstorage.softlayer.net/cf-courses-data/CognitiveClass/Logos/organization_logo/organization_logo.png\" width=\"300\" alt=\"cognitiveclass.ai logo\"  />\n",
    "</center>\n"
   ]
  },
  {
   "cell_type": "markdown",
   "metadata": {},
   "source": [
    "<h1>Extracting Stock Data Using a Python Library</h1>\n"
   ]
  },
  {
   "cell_type": "markdown",
   "metadata": {},
   "source": [
    "A company's stock share is a piece of the company more precisely:\n",
    "\n",
    "<p><b>A stock (also known as equity) is a security that represents the ownership of a fraction of a corporation. This\n",
    "entitles the owner of the stock to a proportion of the corporation's assets and profits equal to how much stock they own. Units of stock are called \"shares.\" [1]</p></b>\n",
    "\n",
    "An investor can buy a stock and sell it later. If the stock price increases, the investor profits, If it decreases,the investor with incur a loss.  Determining the stock price is complex; it depends on **the number of outstanding shares, the size of the company's future profits, and much more.** People trade stocks throughout the day the stock ticker is a report of the price of a certain stock, updated continuously throughout the trading session by the various stock market exchanges.\n",
    "\n",
    "<p>You are a data scientist working for a hedge fund; it's your job to determine any suspicious stock activity. In this lab you will extract stock data using a Python library. We will use the <coode>yfinance</code> library, it allows us to extract data for stocks returning data in a pandas dataframe. You will use the lab to extract.</p>\n"
   ]
  },
  {
   "cell_type": "markdown",
   "metadata": {},
   "source": [
    "<h2>Table of Contents</h2>\n",
    "<div class=\"alert alert-block alert-info\" style=\"margin-top: 20px\">\n",
    "    <ul>\n",
    "        <li>Using yfinance to Extract Stock Info</li>\n",
    "        <li>Using yfinance to Extract Historical Share Price Data</li>\n",
    "        <li>Using yfinance to Extract Historical Dividends Data</li>\n",
    "        <li>Exercise</li>\n",
    "    </ul>\n",
    "<p>\n",
    "    Estimated Time Needed: <strong>30 min</strong></p>\n",
    "</div>\n",
    "\n",
    "<hr>\n"
   ]
  },
  {
   "cell_type": "code",
   "execution_count": 1,
   "metadata": {},
   "outputs": [
    {
     "name": "stdout",
     "output_type": "stream",
     "text": [
      "Requirement already satisfied: yfinance in /Users/salahkaf/opt/anaconda3/lib/python3.9/site-packages (0.1.74)\n",
      "Requirement already satisfied: numpy>=1.15 in /Users/salahkaf/opt/anaconda3/lib/python3.9/site-packages (from yfinance) (1.21.5)\n",
      "Requirement already satisfied: requests>=2.26 in /Users/salahkaf/opt/anaconda3/lib/python3.9/site-packages (from yfinance) (2.27.1)\n",
      "Requirement already satisfied: multitasking>=0.0.7 in /Users/salahkaf/opt/anaconda3/lib/python3.9/site-packages (from yfinance) (0.0.11)\n",
      "Requirement already satisfied: lxml>=4.5.1 in /Users/salahkaf/opt/anaconda3/lib/python3.9/site-packages (from yfinance) (4.8.0)\n",
      "Requirement already satisfied: pandas>=0.24.0 in /Users/salahkaf/opt/anaconda3/lib/python3.9/site-packages (from yfinance) (1.4.2)\n",
      "Requirement already satisfied: python-dateutil>=2.8.1 in /Users/salahkaf/opt/anaconda3/lib/python3.9/site-packages (from pandas>=0.24.0->yfinance) (2.8.2)\n",
      "Requirement already satisfied: pytz>=2020.1 in /Users/salahkaf/opt/anaconda3/lib/python3.9/site-packages (from pandas>=0.24.0->yfinance) (2021.3)\n",
      "Requirement already satisfied: six>=1.5 in /Users/salahkaf/opt/anaconda3/lib/python3.9/site-packages (from python-dateutil>=2.8.1->pandas>=0.24.0->yfinance) (1.16.0)\n",
      "Requirement already satisfied: urllib3<1.27,>=1.21.1 in /Users/salahkaf/opt/anaconda3/lib/python3.9/site-packages (from requests>=2.26->yfinance) (1.26.9)\n",
      "Requirement already satisfied: charset-normalizer~=2.0.0 in /Users/salahkaf/opt/anaconda3/lib/python3.9/site-packages (from requests>=2.26->yfinance) (2.0.4)\n",
      "Requirement already satisfied: idna<4,>=2.5 in /Users/salahkaf/opt/anaconda3/lib/python3.9/site-packages (from requests>=2.26->yfinance) (3.3)\n",
      "Requirement already satisfied: certifi>=2017.4.17 in /Users/salahkaf/opt/anaconda3/lib/python3.9/site-packages (from requests>=2.26->yfinance) (2021.10.8)\n"
     ]
    }
   ],
   "source": [
    "!pip install yfinance\n",
    "#!pip install pandas"
   ]
  },
  {
   "cell_type": "code",
   "execution_count": 2,
   "metadata": {},
   "outputs": [],
   "source": [
    "import yfinance as yf\n",
    "import pandas as pd"
   ]
  },
  {
   "cell_type": "markdown",
   "metadata": {},
   "source": [
    "## Using the yfinance Library to Extract Stock Data\n"
   ]
  },
  {
   "cell_type": "code",
   "execution_count": 3,
   "metadata": {},
   "outputs": [],
   "source": [
    "## Note: I changed the companies used in the examples, but still, the code works with other companies as well!"
   ]
  },
  {
   "cell_type": "markdown",
   "metadata": {},
   "source": [
    "Using the `Ticker` module we can create an object that will allow us to access functions to extract data. To do this we need to provide the ticker symbol for the stock, here the company is Danaher Corporation and the ticker symbol is `DHR`.\n"
   ]
  },
  {
   "cell_type": "code",
   "execution_count": 4,
   "metadata": {},
   "outputs": [
    {
     "data": {
      "text/plain": [
       "yfinance.Ticker object <DHR>"
      ]
     },
     "execution_count": 4,
     "metadata": {},
     "output_type": "execute_result"
    }
   ],
   "source": [
    "Danaher = yf.Ticker(\"DHR\")\n",
    "Danaher"
   ]
  },
  {
   "cell_type": "markdown",
   "metadata": {},
   "source": [
    "Now we can access functions and variables to extract the type of data we need. You can view them and what they represent here https://aroussi.com/post/python-yahoo-finance.\n"
   ]
  },
  {
   "cell_type": "markdown",
   "metadata": {},
   "source": [
    "### Stock Info\n"
   ]
  },
  {
   "cell_type": "markdown",
   "metadata": {},
   "source": [
    "Using the attribute  <code>info</code> we can extract information about the stock as a Python dictionary.\n"
   ]
  },
  {
   "cell_type": "code",
   "execution_count": 5,
   "metadata": {},
   "outputs": [
    {
     "data": {
      "text/plain": [
       "{'zip': '20037-1701',\n",
       " 'sector': 'Healthcare',\n",
       " 'fullTimeEmployees': 78000,\n",
       " 'longBusinessSummary': \"Danaher Corporation designs, manufactures, and markets professional, medical, industrial, and commercial products and services worldwide. The company operates through three segments: Life Sciences, Diagnostics, and Environmental & Applied Solutions. The Life Sciences segment provides mass spectrometers; flow cytometry, genomics, lab automation, centrifugation, particle counting and characterization; microscopes; genomics consumables; and Gene and Cell Therapy. This segment also offers bioprocess technologies, consumables, and services; and filtration, separation, and purification technologies to the pharmaceutical and biopharmaceutical, food and beverage, medical, and life sciences companies, as well as universities, medical schools and research institutions, and various industrial manufacturers. The Diagnostics segment provides chemistry, immunoassay, microbiology, and automation systems, as well as hematology, molecular, acute care, and pathology diagnostics products. This segment offers clinical instruments, reagents, consumables, software, and services for hospitals, physicians' offices, reference laboratories, and other critical care settings. The Environmental & Applied Solutions segment offers instrumentation, consumables, software, services, and disinfection systems to analyze, treat, and manage ultra-pure, potable, industrial, waste, ground, source, and ocean water in residential, commercial, industrial, and natural resource applications. This segment also provides instruments, software, services, and consumables for various color and appearance management, packaging design and quality management, packaging converting, printing, marking, coding, and traceability applications for consumer, pharmaceutical, and industrial products. The company was formerly known as Diversified Mortgage Investors, Inc. and changed its name to Danaher Corporation in 1984. Danaher Corporation was founded in 1969 and is headquartered in Washington, the District of Columbia.\",\n",
       " 'city': 'Washington',\n",
       " 'phone': '202 828 0850',\n",
       " 'state': 'DC',\n",
       " 'country': 'United States',\n",
       " 'companyOfficers': [],\n",
       " 'website': 'https://www.danaher.com',\n",
       " 'maxAge': 1,\n",
       " 'address1': '2200 Pennsylvania Avenue, NW',\n",
       " 'fax': '202 828 0860',\n",
       " 'industry': 'Diagnostics & Research',\n",
       " 'address2': 'Suite 800W',\n",
       " 'ebitdaMargins': 0.3493,\n",
       " 'profitMargins': 0.20608999,\n",
       " 'grossMargins': 0.61017,\n",
       " 'operatingCashflow': 8335000064,\n",
       " 'revenueGrowth': 0.074,\n",
       " 'operatingMargins': 0.27603,\n",
       " 'ebitda': 10764000256,\n",
       " 'targetLowPrice': 275,\n",
       " 'recommendationKey': 'buy',\n",
       " 'grossProfits': 18056000000,\n",
       " 'freeCashflow': 6011874816,\n",
       " 'targetMedianPrice': 325,\n",
       " 'currentPrice': 297.75,\n",
       " 'earningsGrowth': -0.061,\n",
       " 'currentRatio': 1.751,\n",
       " 'returnOnAssets': 0.06652,\n",
       " 'numberOfAnalystOpinions': 18,\n",
       " 'targetMeanPrice': 325.52,\n",
       " 'debtToEquity': 45.411,\n",
       " 'returnOnEquity': 0.14213,\n",
       " 'targetHighPrice': 363.4,\n",
       " 'totalCash': 3984000000,\n",
       " 'totalDebt': 21162000384,\n",
       " 'totalRevenue': 30816000000,\n",
       " 'totalCashPerShare': 5.477,\n",
       " 'financialCurrency': 'USD',\n",
       " 'revenuePerShare': 42.895,\n",
       " 'quickRatio': 1.138,\n",
       " 'recommendationMean': 1.9,\n",
       " 'exchange': 'NYQ',\n",
       " 'shortName': 'Danaher Corporation',\n",
       " 'longName': 'Danaher Corporation',\n",
       " 'exchangeTimezoneName': 'America/New_York',\n",
       " 'exchangeTimezoneShortName': 'EDT',\n",
       " 'isEsgPopulated': False,\n",
       " 'gmtOffSetMilliseconds': '-14400000',\n",
       " 'quoteType': 'EQUITY',\n",
       " 'symbol': 'DHR',\n",
       " 'messageBoardId': 'finmb_265621',\n",
       " 'market': 'us_market',\n",
       " 'annualHoldingsTurnover': None,\n",
       " 'enterpriseToRevenue': 7.485,\n",
       " 'beta3Year': None,\n",
       " 'enterpriseToEbitda': 21.43,\n",
       " '52WeekChange': -0.06602883,\n",
       " 'morningStarRiskRating': None,\n",
       " 'forwardEps': 10.75,\n",
       " 'revenueQuarterlyGrowth': None,\n",
       " 'sharesOutstanding': 727444992,\n",
       " 'fundInceptionDate': None,\n",
       " 'annualReportExpenseRatio': None,\n",
       " 'totalAssets': None,\n",
       " 'bookValue': 61.762,\n",
       " 'sharesShort': 3892513,\n",
       " 'sharesPercentSharesOut': 0.0054,\n",
       " 'fundFamily': None,\n",
       " 'lastFiscalYearEnd': 1640908800,\n",
       " 'heldPercentInstitutions': 0.80742997,\n",
       " 'netIncomeToCommon': 6206000128,\n",
       " 'trailingEps': 8.49,\n",
       " 'lastDividendValue': 0.25,\n",
       " 'SandP52WeekChange': -0.0445475,\n",
       " 'priceToBook': 4.820925,\n",
       " 'heldPercentInsiders': 0.11079001,\n",
       " 'nextFiscalYearEnd': 1703980800,\n",
       " 'yield': None,\n",
       " 'mostRecentQuarter': 1656633600,\n",
       " 'shortRatio': 1.73,\n",
       " 'sharesShortPreviousMonthDate': 1656547200,\n",
       " 'floatShares': 654824485,\n",
       " 'beta': 0.867019,\n",
       " 'enterpriseValue': 230670532608,\n",
       " 'priceHint': 2,\n",
       " 'threeYearAverageReturn': None,\n",
       " 'lastSplitDate': 1467676800,\n",
       " 'lastSplitFactor': '1319:1000',\n",
       " 'legalType': None,\n",
       " 'lastDividendDate': 1655942400,\n",
       " 'morningStarOverallRating': None,\n",
       " 'earningsQuarterlyGrowth': -0.059,\n",
       " 'priceToSalesTrailing12Months': 7.0287104,\n",
       " 'dateShortInterest': 1659052800,\n",
       " 'pegRatio': 2.6,\n",
       " 'ytdReturn': None,\n",
       " 'forwardPE': 27.697674,\n",
       " 'lastCapGain': None,\n",
       " 'shortPercentOfFloat': 0.006,\n",
       " 'sharesShortPriorMonth': 4830582,\n",
       " 'impliedSharesOutstanding': 0,\n",
       " 'category': None,\n",
       " 'fiveYearAverageReturn': None,\n",
       " 'previousClose': 291.18,\n",
       " 'regularMarketOpen': 292.2,\n",
       " 'twoHundredDayAverage': 281.15164,\n",
       " 'trailingAnnualDividendYield': 0.0031595577,\n",
       " 'payoutRatio': 0.1084,\n",
       " 'volume24Hr': None,\n",
       " 'regularMarketDayHigh': 298.05,\n",
       " 'navPrice': None,\n",
       " 'averageDailyVolume10Day': 1668710,\n",
       " 'regularMarketPreviousClose': 291.18,\n",
       " 'fiftyDayAverage': 265.2698,\n",
       " 'trailingAnnualDividendRate': 0.92,\n",
       " 'open': 292.2,\n",
       " 'toCurrency': None,\n",
       " 'averageVolume10days': 1668710,\n",
       " 'expireDate': None,\n",
       " 'algorithm': None,\n",
       " 'dividendRate': 1,\n",
       " 'exDividendDate': 1655942400,\n",
       " 'circulatingSupply': None,\n",
       " 'startDate': None,\n",
       " 'regularMarketDayLow': 291.12,\n",
       " 'currency': 'USD',\n",
       " 'trailingPE': 35.07067,\n",
       " 'regularMarketVolume': 2085915,\n",
       " 'lastMarket': None,\n",
       " 'maxSupply': None,\n",
       " 'openInterest': None,\n",
       " 'marketCap': 216596742144,\n",
       " 'volumeAllCurrencies': None,\n",
       " 'strikePrice': None,\n",
       " 'averageVolume': 2293393,\n",
       " 'dayLow': 291.12,\n",
       " 'ask': 298.08,\n",
       " 'askSize': 900,\n",
       " 'volume': 2085915,\n",
       " 'fiftyTwoWeekHigh': 333.96,\n",
       " 'fromCurrency': None,\n",
       " 'fiveYearAvgDividendYield': 0.43,\n",
       " 'fiftyTwoWeekLow': 233.71,\n",
       " 'bid': 297.02,\n",
       " 'tradeable': False,\n",
       " 'dividendYield': 0.0034,\n",
       " 'bidSize': 1100,\n",
       " 'dayHigh': 298.05,\n",
       " 'coinMarketCapLink': None,\n",
       " 'regularMarketPrice': 297.75,\n",
       " 'preMarketPrice': 293,\n",
       " 'logo_url': 'https://logo.clearbit.com/danaher.com',\n",
       " 'trailingPegRatio': 3.422}"
      ]
     },
     "execution_count": 5,
     "metadata": {},
     "output_type": "execute_result"
    }
   ],
   "source": [
    "Danaher_info=Danaher.info\n",
    "Danaher_info"
   ]
  },
  {
   "cell_type": "markdown",
   "metadata": {},
   "source": [
    "We can get the <code>'country'</code> using the key country\n"
   ]
  },
  {
   "cell_type": "code",
   "execution_count": 6,
   "metadata": {},
   "outputs": [
    {
     "data": {
      "text/plain": [
       "'United States'"
      ]
     },
     "execution_count": 6,
     "metadata": {},
     "output_type": "execute_result"
    }
   ],
   "source": [
    "Danaher_info['country'] #Using country key word to find its value"
   ]
  },
  {
   "cell_type": "markdown",
   "metadata": {},
   "source": [
    "### Extracting Share Price\n"
   ]
  },
  {
   "cell_type": "markdown",
   "metadata": {},
   "source": [
    "A share is the single smallest part of a company's stock  that you can buy, the prices of these shares fluctuate over time. Using the <code>history()</code> method we can get the share price of the stock over a certain period of time. Using the `period` parameter we can set how far back from the present to get data. The options for `period` are 1 day (1d), 5d, 1 month (1mo) , 3mo, 6mo, 1 year (1y), 2y, 5y, 10y, ytd, and max.\n"
   ]
  },
  {
   "cell_type": "code",
   "execution_count": 7,
   "metadata": {},
   "outputs": [
    {
     "data": {
      "text/html": [
       "<div>\n",
       "<style scoped>\n",
       "    .dataframe tbody tr th:only-of-type {\n",
       "        vertical-align: middle;\n",
       "    }\n",
       "\n",
       "    .dataframe tbody tr th {\n",
       "        vertical-align: top;\n",
       "    }\n",
       "\n",
       "    .dataframe thead th {\n",
       "        text-align: right;\n",
       "    }\n",
       "</style>\n",
       "<table border=\"1\" class=\"dataframe\">\n",
       "  <thead>\n",
       "    <tr style=\"text-align: right;\">\n",
       "      <th></th>\n",
       "      <th>Open</th>\n",
       "      <th>High</th>\n",
       "      <th>Low</th>\n",
       "      <th>Close</th>\n",
       "      <th>Volume</th>\n",
       "      <th>Dividends</th>\n",
       "      <th>Stock Splits</th>\n",
       "    </tr>\n",
       "    <tr>\n",
       "      <th>Date</th>\n",
       "      <th></th>\n",
       "      <th></th>\n",
       "      <th></th>\n",
       "      <th></th>\n",
       "      <th></th>\n",
       "      <th></th>\n",
       "      <th></th>\n",
       "    </tr>\n",
       "  </thead>\n",
       "  <tbody>\n",
       "    <tr>\n",
       "      <th>1978-12-29</th>\n",
       "      <td>0.000000</td>\n",
       "      <td>0.079134</td>\n",
       "      <td>0.073677</td>\n",
       "      <td>0.079134</td>\n",
       "      <td>654224</td>\n",
       "      <td>0.0</td>\n",
       "      <td>0.0</td>\n",
       "    </tr>\n",
       "    <tr>\n",
       "      <th>1979-01-02</th>\n",
       "      <td>0.079134</td>\n",
       "      <td>0.079134</td>\n",
       "      <td>0.079134</td>\n",
       "      <td>0.079134</td>\n",
       "      <td>0</td>\n",
       "      <td>0.0</td>\n",
       "      <td>0.0</td>\n",
       "    </tr>\n",
       "    <tr>\n",
       "      <th>1979-01-03</th>\n",
       "      <td>0.000000</td>\n",
       "      <td>0.084592</td>\n",
       "      <td>0.081863</td>\n",
       "      <td>0.081863</td>\n",
       "      <td>168832</td>\n",
       "      <td>0.0</td>\n",
       "      <td>0.0</td>\n",
       "    </tr>\n",
       "    <tr>\n",
       "      <th>1979-01-04</th>\n",
       "      <td>0.000000</td>\n",
       "      <td>0.084592</td>\n",
       "      <td>0.081863</td>\n",
       "      <td>0.084592</td>\n",
       "      <td>177274</td>\n",
       "      <td>0.0</td>\n",
       "      <td>0.0</td>\n",
       "    </tr>\n",
       "    <tr>\n",
       "      <th>1979-01-05</th>\n",
       "      <td>0.000000</td>\n",
       "      <td>0.090049</td>\n",
       "      <td>0.084592</td>\n",
       "      <td>0.090049</td>\n",
       "      <td>333443</td>\n",
       "      <td>0.0</td>\n",
       "      <td>0.0</td>\n",
       "    </tr>\n",
       "    <tr>\n",
       "      <th>...</th>\n",
       "      <td>...</td>\n",
       "      <td>...</td>\n",
       "      <td>...</td>\n",
       "      <td>...</td>\n",
       "      <td>...</td>\n",
       "      <td>...</td>\n",
       "      <td>...</td>\n",
       "    </tr>\n",
       "    <tr>\n",
       "      <th>2022-08-08</th>\n",
       "      <td>291.000000</td>\n",
       "      <td>291.089996</td>\n",
       "      <td>286.209991</td>\n",
       "      <td>286.989990</td>\n",
       "      <td>1401100</td>\n",
       "      <td>0.0</td>\n",
       "      <td>0.0</td>\n",
       "    </tr>\n",
       "    <tr>\n",
       "      <th>2022-08-09</th>\n",
       "      <td>287.200012</td>\n",
       "      <td>288.000000</td>\n",
       "      <td>284.130005</td>\n",
       "      <td>285.239990</td>\n",
       "      <td>1361100</td>\n",
       "      <td>0.0</td>\n",
       "      <td>0.0</td>\n",
       "    </tr>\n",
       "    <tr>\n",
       "      <th>2022-08-10</th>\n",
       "      <td>288.779999</td>\n",
       "      <td>291.200012</td>\n",
       "      <td>286.190002</td>\n",
       "      <td>291.140015</td>\n",
       "      <td>1530400</td>\n",
       "      <td>0.0</td>\n",
       "      <td>0.0</td>\n",
       "    </tr>\n",
       "    <tr>\n",
       "      <th>2022-08-11</th>\n",
       "      <td>292.920013</td>\n",
       "      <td>295.320007</td>\n",
       "      <td>291.059998</td>\n",
       "      <td>291.179993</td>\n",
       "      <td>1616800</td>\n",
       "      <td>0.0</td>\n",
       "      <td>0.0</td>\n",
       "    </tr>\n",
       "    <tr>\n",
       "      <th>2022-08-12</th>\n",
       "      <td>292.200012</td>\n",
       "      <td>298.049988</td>\n",
       "      <td>291.119995</td>\n",
       "      <td>297.750000</td>\n",
       "      <td>2361900</td>\n",
       "      <td>0.0</td>\n",
       "      <td>0.0</td>\n",
       "    </tr>\n",
       "  </tbody>\n",
       "</table>\n",
       "<p>11000 rows × 7 columns</p>\n",
       "</div>"
      ],
      "text/plain": [
       "                  Open        High         Low       Close   Volume  \\\n",
       "Date                                                                  \n",
       "1978-12-29    0.000000    0.079134    0.073677    0.079134   654224   \n",
       "1979-01-02    0.079134    0.079134    0.079134    0.079134        0   \n",
       "1979-01-03    0.000000    0.084592    0.081863    0.081863   168832   \n",
       "1979-01-04    0.000000    0.084592    0.081863    0.084592   177274   \n",
       "1979-01-05    0.000000    0.090049    0.084592    0.090049   333443   \n",
       "...                ...         ...         ...         ...      ...   \n",
       "2022-08-08  291.000000  291.089996  286.209991  286.989990  1401100   \n",
       "2022-08-09  287.200012  288.000000  284.130005  285.239990  1361100   \n",
       "2022-08-10  288.779999  291.200012  286.190002  291.140015  1530400   \n",
       "2022-08-11  292.920013  295.320007  291.059998  291.179993  1616800   \n",
       "2022-08-12  292.200012  298.049988  291.119995  297.750000  2361900   \n",
       "\n",
       "            Dividends  Stock Splits  \n",
       "Date                                 \n",
       "1978-12-29        0.0           0.0  \n",
       "1979-01-02        0.0           0.0  \n",
       "1979-01-03        0.0           0.0  \n",
       "1979-01-04        0.0           0.0  \n",
       "1979-01-05        0.0           0.0  \n",
       "...               ...           ...  \n",
       "2022-08-08        0.0           0.0  \n",
       "2022-08-09        0.0           0.0  \n",
       "2022-08-10        0.0           0.0  \n",
       "2022-08-11        0.0           0.0  \n",
       "2022-08-12        0.0           0.0  \n",
       "\n",
       "[11000 rows x 7 columns]"
      ]
     },
     "execution_count": 7,
     "metadata": {},
     "output_type": "execute_result"
    }
   ],
   "source": [
    "Danaher_share_price_data = Danaher.history(period=\"max\")\n",
    "Danaher_share_price_data"
   ]
  },
  {
   "cell_type": "markdown",
   "metadata": {},
   "source": [
    "The format that the data is returned in is a Pandas DataFrame. With the `Date` as the index the share `Open`, `High`, `Low`, `Close`, `Volume`, and `Stock Splits` are given for each day.\n"
   ]
  },
  {
   "cell_type": "code",
   "execution_count": 8,
   "metadata": {},
   "outputs": [
    {
     "data": {
      "text/html": [
       "<div>\n",
       "<style scoped>\n",
       "    .dataframe tbody tr th:only-of-type {\n",
       "        vertical-align: middle;\n",
       "    }\n",
       "\n",
       "    .dataframe tbody tr th {\n",
       "        vertical-align: top;\n",
       "    }\n",
       "\n",
       "    .dataframe thead th {\n",
       "        text-align: right;\n",
       "    }\n",
       "</style>\n",
       "<table border=\"1\" class=\"dataframe\">\n",
       "  <thead>\n",
       "    <tr style=\"text-align: right;\">\n",
       "      <th></th>\n",
       "      <th>Open</th>\n",
       "      <th>High</th>\n",
       "      <th>Low</th>\n",
       "      <th>Close</th>\n",
       "      <th>Volume</th>\n",
       "      <th>Dividends</th>\n",
       "      <th>Stock Splits</th>\n",
       "    </tr>\n",
       "    <tr>\n",
       "      <th>Date</th>\n",
       "      <th></th>\n",
       "      <th></th>\n",
       "      <th></th>\n",
       "      <th></th>\n",
       "      <th></th>\n",
       "      <th></th>\n",
       "      <th></th>\n",
       "    </tr>\n",
       "  </thead>\n",
       "  <tbody>\n",
       "    <tr>\n",
       "      <th>1978-12-29</th>\n",
       "      <td>0.000000</td>\n",
       "      <td>0.079134</td>\n",
       "      <td>0.073677</td>\n",
       "      <td>0.079134</td>\n",
       "      <td>654224</td>\n",
       "      <td>0.0</td>\n",
       "      <td>0.0</td>\n",
       "    </tr>\n",
       "    <tr>\n",
       "      <th>1979-01-02</th>\n",
       "      <td>0.079134</td>\n",
       "      <td>0.079134</td>\n",
       "      <td>0.079134</td>\n",
       "      <td>0.079134</td>\n",
       "      <td>0</td>\n",
       "      <td>0.0</td>\n",
       "      <td>0.0</td>\n",
       "    </tr>\n",
       "    <tr>\n",
       "      <th>1979-01-03</th>\n",
       "      <td>0.000000</td>\n",
       "      <td>0.084592</td>\n",
       "      <td>0.081863</td>\n",
       "      <td>0.081863</td>\n",
       "      <td>168832</td>\n",
       "      <td>0.0</td>\n",
       "      <td>0.0</td>\n",
       "    </tr>\n",
       "    <tr>\n",
       "      <th>1979-01-04</th>\n",
       "      <td>0.000000</td>\n",
       "      <td>0.084592</td>\n",
       "      <td>0.081863</td>\n",
       "      <td>0.084592</td>\n",
       "      <td>177274</td>\n",
       "      <td>0.0</td>\n",
       "      <td>0.0</td>\n",
       "    </tr>\n",
       "    <tr>\n",
       "      <th>1979-01-05</th>\n",
       "      <td>0.000000</td>\n",
       "      <td>0.090049</td>\n",
       "      <td>0.084592</td>\n",
       "      <td>0.090049</td>\n",
       "      <td>333443</td>\n",
       "      <td>0.0</td>\n",
       "      <td>0.0</td>\n",
       "    </tr>\n",
       "  </tbody>\n",
       "</table>\n",
       "</div>"
      ],
      "text/plain": [
       "                Open      High       Low     Close  Volume  Dividends  \\\n",
       "Date                                                                    \n",
       "1978-12-29  0.000000  0.079134  0.073677  0.079134  654224        0.0   \n",
       "1979-01-02  0.079134  0.079134  0.079134  0.079134       0        0.0   \n",
       "1979-01-03  0.000000  0.084592  0.081863  0.081863  168832        0.0   \n",
       "1979-01-04  0.000000  0.084592  0.081863  0.084592  177274        0.0   \n",
       "1979-01-05  0.000000  0.090049  0.084592  0.090049  333443        0.0   \n",
       "\n",
       "            Stock Splits  \n",
       "Date                      \n",
       "1978-12-29           0.0  \n",
       "1979-01-02           0.0  \n",
       "1979-01-03           0.0  \n",
       "1979-01-04           0.0  \n",
       "1979-01-05           0.0  "
      ]
     },
     "execution_count": 8,
     "metadata": {},
     "output_type": "execute_result"
    }
   ],
   "source": [
    "Danaher_share_price_data.head()"
   ]
  },
  {
   "cell_type": "markdown",
   "metadata": {},
   "source": [
    "We can reset the index of the DataFrame with the `reset_index` function. We also set the `inplace` paramter to `True` so the change takes place to the DataFrame itself.\n"
   ]
  },
  {
   "cell_type": "code",
   "execution_count": 9,
   "metadata": {},
   "outputs": [],
   "source": [
    "Danaher_share_price_data.reset_index(inplace=True)"
   ]
  },
  {
   "cell_type": "markdown",
   "metadata": {},
   "source": [
    "We can plot the `Open` price against the `Date`:\n"
   ]
  },
  {
   "cell_type": "code",
   "execution_count": 10,
   "metadata": {},
   "outputs": [
    {
     "data": {
      "text/plain": [
       "<AxesSubplot:xlabel='Date'>"
      ]
     },
     "execution_count": 10,
     "metadata": {},
     "output_type": "execute_result"
    },
    {
     "data": {
      "image/png": "[encoded data removed]",
      "text/plain": [
       "<Figure size 432x288 with 1 Axes>"
      ]
     },
     "metadata": {
      "needs_background": "light"
     },
     "output_type": "display_data"
    }
   ],
   "source": [
    "Danaher_share_price_data.plot(x=\"Date\", y=\"Open\")"
   ]
  },
  {
   "cell_type": "markdown",
   "metadata": {},
   "source": [
    "### Extracting Dividends\n"
   ]
  },
  {
   "cell_type": "markdown",
   "metadata": {},
   "source": [
    "Dividends are the distribution of a companys profits to shareholders. In this case they are defined as an amount of money returned per share an investor owns. Using the variable `dividends` we can get a dataframe of the data. The period of the data is given by the period defined in the 'history\\` function.\n"
   ]
  },
  {
   "cell_type": "code",
   "execution_count": 11,
   "metadata": {},
   "outputs": [
    {
     "data": {
      "text/plain": [
       "Date\n",
       "1993-03-22    0.001422\n",
       "1993-06-21    0.001422\n",
       "1993-09-23    0.001422\n",
       "1993-12-13    0.001422\n",
       "1994-03-17    0.001422\n",
       "                ...   \n",
       "2021-06-24    0.210000\n",
       "2021-09-29    0.210000\n",
       "2021-12-29    0.210000\n",
       "2022-03-24    0.250000\n",
       "2022-06-23    0.250000\n",
       "Name: Dividends, Length: 118, dtype: float64"
      ]
     },
     "execution_count": 11,
     "metadata": {},
     "output_type": "execute_result"
    }
   ],
   "source": [
    "Danaher.dividends"
   ]
  },
  {
   "cell_type": "markdown",
   "metadata": {},
   "source": [
    "We can plot the dividends overtime:\n"
   ]
  },
  {
   "cell_type": "code",
   "execution_count": 12,
   "metadata": {},
   "outputs": [
    {
     "data": {
      "text/plain": [
       "<AxesSubplot:xlabel='Date'>"
      ]
     },
     "execution_count": 12,
     "metadata": {},
     "output_type": "execute_result"
    },
    {
     "data": {
      "image/png": "[encoded data removed]",
      "text/plain": [
       "<Figure size 432x288 with 1 Axes>"
      ]
     },
     "metadata": {
      "needs_background": "light"
     },
     "output_type": "display_data"
    }
   ],
   "source": [
    "Danaher.dividends.plot()"
   ]
  },
  {
   "cell_type": "markdown",
   "metadata": {},
   "source": [
    "## Exercise\n"
   ]
  },
  {
   "cell_type": "markdown",
   "metadata": {},
   "source": [
    "Now using the `Ticker` module create an object for (Chevron Corporation) with the ticker symbol is `CVX` called; name the object <code>CVX</code>.\n"
   ]
  },
  {
   "cell_type": "code",
   "execution_count": 13,
   "metadata": {},
   "outputs": [],
   "source": [
    "Chevron = yf.Ticker(\"CVX\")\n",
    "Chevron_info = Chevron.info"
   ]
  },
  {
   "cell_type": "markdown",
   "metadata": {},
   "source": [
    "<b>Question 1</b> Use the key  <code>'country'</code> to find the country the stock belongs to, remember it as it will be a quiz question.\n"
   ]
  },
  {
   "cell_type": "code",
   "execution_count": 14,
   "metadata": {},
   "outputs": [
    {
     "data": {
      "text/plain": [
       "'United States'"
      ]
     },
     "execution_count": 14,
     "metadata": {},
     "output_type": "execute_result"
    }
   ],
   "source": [
    "Chevron_info['country']"
   ]
  },
  {
   "cell_type": "markdown",
   "metadata": {},
   "source": [
    "<b>Question 2</b> Use the key  <code>'sector'</code> to find the sector the stock belongs to, remember it as it will be a quiz question.\n"
   ]
  },
  {
   "cell_type": "code",
   "execution_count": 15,
   "metadata": {},
   "outputs": [
    {
     "data": {
      "text/plain": [
       "'Energy'"
      ]
     },
     "execution_count": 15,
     "metadata": {},
     "output_type": "execute_result"
    }
   ],
   "source": [
    "Chevron_info['sector']"
   ]
  },
  {
   "cell_type": "markdown",
   "metadata": {},
   "source": [
    "<b>Question 3</b> Obtain stock data for Chevron using the `history` function, set the `period` to max. Find the `Volume` traded on the first day (first row).\n"
   ]
  },
  {
   "cell_type": "code",
   "execution_count": 16,
   "metadata": {},
   "outputs": [
    {
     "data": {
      "text/html": [
       "<div>\n",
       "<style scoped>\n",
       "    .dataframe tbody tr th:only-of-type {\n",
       "        vertical-align: middle;\n",
       "    }\n",
       "\n",
       "    .dataframe tbody tr th {\n",
       "        vertical-align: top;\n",
       "    }\n",
       "\n",
       "    .dataframe thead th {\n",
       "        text-align: right;\n",
       "    }\n",
       "</style>\n",
       "<table border=\"1\" class=\"dataframe\">\n",
       "  <thead>\n",
       "    <tr style=\"text-align: right;\">\n",
       "      <th></th>\n",
       "      <th>Open</th>\n",
       "      <th>High</th>\n",
       "      <th>Low</th>\n",
       "      <th>Close</th>\n",
       "      <th>Volume</th>\n",
       "      <th>Dividends</th>\n",
       "      <th>Stock Splits</th>\n",
       "    </tr>\n",
       "    <tr>\n",
       "      <th>Date</th>\n",
       "      <th></th>\n",
       "      <th></th>\n",
       "      <th></th>\n",
       "      <th></th>\n",
       "      <th></th>\n",
       "      <th></th>\n",
       "      <th></th>\n",
       "    </tr>\n",
       "  </thead>\n",
       "  <tbody>\n",
       "    <tr>\n",
       "      <th>1962-01-02</th>\n",
       "      <td>0.000000</td>\n",
       "      <td>0.358712</td>\n",
       "      <td>0.353044</td>\n",
       "      <td>0.358712</td>\n",
       "      <td>105840</td>\n",
       "      <td>0.0</td>\n",
       "      <td>0.0</td>\n",
       "    </tr>\n",
       "    <tr>\n",
       "      <th>1962-01-03</th>\n",
       "      <td>0.000000</td>\n",
       "      <td>0.359522</td>\n",
       "      <td>0.356283</td>\n",
       "      <td>0.357902</td>\n",
       "      <td>127680</td>\n",
       "      <td>0.0</td>\n",
       "      <td>0.0</td>\n",
       "    </tr>\n",
       "    <tr>\n",
       "      <th>1962-01-04</th>\n",
       "      <td>0.000000</td>\n",
       "      <td>0.357902</td>\n",
       "      <td>0.354663</td>\n",
       "      <td>0.354663</td>\n",
       "      <td>75600</td>\n",
       "      <td>0.0</td>\n",
       "      <td>0.0</td>\n",
       "    </tr>\n",
       "    <tr>\n",
       "      <th>1962-01-05</th>\n",
       "      <td>0.000000</td>\n",
       "      <td>0.355473</td>\n",
       "      <td>0.345756</td>\n",
       "      <td>0.345756</td>\n",
       "      <td>201600</td>\n",
       "      <td>0.0</td>\n",
       "      <td>0.0</td>\n",
       "    </tr>\n",
       "    <tr>\n",
       "      <th>1962-01-08</th>\n",
       "      <td>0.000000</td>\n",
       "      <td>0.347376</td>\n",
       "      <td>0.341708</td>\n",
       "      <td>0.344137</td>\n",
       "      <td>126000</td>\n",
       "      <td>0.0</td>\n",
       "      <td>0.0</td>\n",
       "    </tr>\n",
       "    <tr>\n",
       "      <th>...</th>\n",
       "      <td>...</td>\n",
       "      <td>...</td>\n",
       "      <td>...</td>\n",
       "      <td>...</td>\n",
       "      <td>...</td>\n",
       "      <td>...</td>\n",
       "      <td>...</td>\n",
       "    </tr>\n",
       "    <tr>\n",
       "      <th>2022-08-08</th>\n",
       "      <td>153.589996</td>\n",
       "      <td>154.979996</td>\n",
       "      <td>153.149994</td>\n",
       "      <td>153.410004</td>\n",
       "      <td>5966900</td>\n",
       "      <td>0.0</td>\n",
       "      <td>0.0</td>\n",
       "    </tr>\n",
       "    <tr>\n",
       "      <th>2022-08-09</th>\n",
       "      <td>155.940002</td>\n",
       "      <td>157.800003</td>\n",
       "      <td>154.600006</td>\n",
       "      <td>155.410004</td>\n",
       "      <td>5842200</td>\n",
       "      <td>0.0</td>\n",
       "      <td>0.0</td>\n",
       "    </tr>\n",
       "    <tr>\n",
       "      <th>2022-08-10</th>\n",
       "      <td>156.000000</td>\n",
       "      <td>156.470001</td>\n",
       "      <td>152.929993</td>\n",
       "      <td>155.820007</td>\n",
       "      <td>6145800</td>\n",
       "      <td>0.0</td>\n",
       "      <td>0.0</td>\n",
       "    </tr>\n",
       "    <tr>\n",
       "      <th>2022-08-11</th>\n",
       "      <td>158.110001</td>\n",
       "      <td>161.160004</td>\n",
       "      <td>157.619995</td>\n",
       "      <td>159.619995</td>\n",
       "      <td>7888600</td>\n",
       "      <td>0.0</td>\n",
       "      <td>0.0</td>\n",
       "    </tr>\n",
       "    <tr>\n",
       "      <th>2022-08-12</th>\n",
       "      <td>158.250000</td>\n",
       "      <td>159.910004</td>\n",
       "      <td>157.139999</td>\n",
       "      <td>159.850006</td>\n",
       "      <td>7242900</td>\n",
       "      <td>0.0</td>\n",
       "      <td>0.0</td>\n",
       "    </tr>\n",
       "  </tbody>\n",
       "</table>\n",
       "<p>15259 rows × 7 columns</p>\n",
       "</div>"
      ],
      "text/plain": [
       "                  Open        High         Low       Close   Volume  \\\n",
       "Date                                                                  \n",
       "1962-01-02    0.000000    0.358712    0.353044    0.358712   105840   \n",
       "1962-01-03    0.000000    0.359522    0.356283    0.357902   127680   \n",
       "1962-01-04    0.000000    0.357902    0.354663    0.354663    75600   \n",
       "1962-01-05    0.000000    0.355473    0.345756    0.345756   201600   \n",
       "1962-01-08    0.000000    0.347376    0.341708    0.344137   126000   \n",
       "...                ...         ...         ...         ...      ...   \n",
       "2022-08-08  153.589996  154.979996  153.149994  153.410004  5966900   \n",
       "2022-08-09  155.940002  157.800003  154.600006  155.410004  5842200   \n",
       "2022-08-10  156.000000  156.470001  152.929993  155.820007  6145800   \n",
       "2022-08-11  158.110001  161.160004  157.619995  159.619995  7888600   \n",
       "2022-08-12  158.250000  159.910004  157.139999  159.850006  7242900   \n",
       "\n",
       "            Dividends  Stock Splits  \n",
       "Date                                 \n",
       "1962-01-02        0.0           0.0  \n",
       "1962-01-03        0.0           0.0  \n",
       "1962-01-04        0.0           0.0  \n",
       "1962-01-05        0.0           0.0  \n",
       "1962-01-08        0.0           0.0  \n",
       "...               ...           ...  \n",
       "2022-08-08        0.0           0.0  \n",
       "2022-08-09        0.0           0.0  \n",
       "2022-08-10        0.0           0.0  \n",
       "2022-08-11        0.0           0.0  \n",
       "2022-08-12        0.0           0.0  \n",
       "\n",
       "[15259 rows x 7 columns]"
      ]
     },
     "execution_count": 16,
     "metadata": {},
     "output_type": "execute_result"
    }
   ],
   "source": [
    "Chevron.history(period='max')"
   ]
  },
  {
   "cell_type": "markdown",
   "metadata": {},
   "source": [
    "<h2>About the  Authors:</h2> \n",
    "\n",
    "<a href=\"https://www.linkedin.com/in/joseph-s-50398b136/?utm_medium=Exinfluencer&utm_source=Exinfluencer&utm_content=000026UJ&utm_term=10006555&utm_id=NA-SkillsNetwork-Channel-SkillsNetworkCoursesIBMDeveloperSkillsNetworkPY0220ENSkillsNetwork23455606-2021-01-01\">Joseph Santarcangelo</a> has a PhD in Electrical Engineering, his research focused on using machine learning, signal processing, and computer vision to determine how videos impact human cognition. Joseph has been working for IBM since he completed his PhD.\n",
    "\n"
   ]
  },
  {
   "cell_type": "markdown",
   "metadata": {},
   "source": [
    "## Change Log\n",
    "\n",
    "| Date (YYYY-MM-DD) | Version | Changed By    | Change Description        |\n",
    "| ----------------- | ------- | ------------- | ------------------------- |\n",
    "| 2020-11-10        | 1.1     | Malika Singla | Deleted the Optional part |\n",
    "| 2020-08-27        | 1.0     | Malika Singla | Added lab to GitLab       |\n",
    "\n",
    "<hr>\n",
    "\n",
    "## <h3 align=\"center\"> © IBM Corporation 2020. All rights reserved. <h3/>\n",
    "\n",
    "<p>\n"
   ]
  }
 ],
 "metadata": {
  "kernelspec": {
   "display_name": "Python 3 (ipykernel)",
   "language": "python",
   "name": "python3"
  },
  "language_info": {
   "codemirror_mode": {
    "name": "ipython",
    "version": 3
   },
   "file_extension": ".py",
   "mimetype": "text/x-python",
   "name": "python",
   "nbconvert_exporter": "python",
   "pygments_lexer": "ipython3",
   "version": "3.9.12"
  }
 },
 "nbformat": 4,
 "nbformat_minor": 4
}
